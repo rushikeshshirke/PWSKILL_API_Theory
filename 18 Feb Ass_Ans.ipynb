{
 "cells": [
  {
   "cell_type": "code",
   "execution_count": 2,
   "id": "ce6b55e7-1d8a-4365-a520-8a54db44cd5f",
   "metadata": {},
   "outputs": [],
   "source": [
    "# Q1.\n",
    "#Ans : APIs are mechanisms that enable two \n",
    "#software components to communicate with each \n",
    "#other using a set of definitions and \n",
    "#protocols. In everyday life, we use API's \n",
    "#in Facebook or Instagram, check the weather \n",
    "#or send an instant message."
   ]
  },
  {
   "cell_type": "code",
   "execution_count": 3,
   "id": "849a1971-6581-421d-9230-a635112aea8b",
   "metadata": {},
   "outputs": [],
   "source": [
    "\n",
    "#Q2.\n",
    "#Ans : Advantages include Improved Efficiency, Better User Experience, Increased Flexibility, increased scalability, etc.\n",
    "#Disadvantages include Complexity, compatibility issues, Dependency on Third-Party Developers, etc."
   ]
  },
  {
   "cell_type": "code",
   "execution_count": 4,
   "id": "0be2ef9a-f7eb-4f17-bf6b-d14a84f15e90",
   "metadata": {},
   "outputs": [],
   "source": [
    "\n",
    "#Q3.\n",
    "#Ans : API is used to communicate between the systems or network.It uses TCP/IP protocol for governance. It can be used offline. It is complex to use and implement. It is light weighted. It uses XML format.\n",
    "\n",
    "#Web API is used strictly in web services. It uses HTTPS protocal for the governance. It is used in web based applications.\n",
    "#It is light weighted. It is easy to use and implement"
   ]
  },
  {
   "cell_type": "code",
   "execution_count": 5,
   "id": "aee66f09-652b-4bdd-a463-0c772f828595",
   "metadata": {},
   "outputs": [],
   "source": [
    "\n",
    "#Q4.\n",
    "#Ans : The SOAP protocol requires applications to store the state between requests, which increases bandwidth and memory requirements. As a result, it makes applications expensive and challenging to scale. Unlike SOAP, REST permits stateless and layered architecture, which makes it more scalable.\n",
    "#SOAP is used only XML format data in web service, whereas JSON and other lightweight formats are not supported by it.\n"
   ]
  },
  {
   "cell_type": "code",
   "execution_count": null,
   "id": "bdeeea91-d3c3-42e6-8de8-255fff5cdcf2",
   "metadata": {},
   "outputs": [],
   "source": [
    "\n",
    "#Q5. \n",
    "#Ans : The SOAP approach is highly structured and uses XML data format. Because it is XML based and relies on SOAP, it works with WSDL. Works over HTTP, HTTPS, SMTP, XMPP.\n",
    "\n",
    "\n",
    "#REST is more flexible and allows applications to exchange data in multiple formats. It works with GET, POST, PUT, DELETE. Works over HTTP and HTTPS"
   ]
  }
 ],
 "metadata": {
  "kernelspec": {
   "display_name": "Python 3 (ipykernel)",
   "language": "python",
   "name": "python3"
  },
  "language_info": {
   "codemirror_mode": {
    "name": "ipython",
    "version": 3
   },
   "file_extension": ".py",
   "mimetype": "text/x-python",
   "name": "python",
   "nbconvert_exporter": "python",
   "pygments_lexer": "ipython3",
   "version": "3.10.8"
  }
 },
 "nbformat": 4,
 "nbformat_minor": 5
}
